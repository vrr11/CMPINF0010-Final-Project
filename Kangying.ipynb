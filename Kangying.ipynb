{
 "cells": [
  {
   "cell_type": "markdown",
   "metadata": {},
   "source": [
    "# Incident Blotter per Neighborhood"
   ]
  },
  {
   "cell_type": "markdown",
   "metadata": {},
   "source": [
    "For the final project of determining the best neighborhood, under the overall metric of **safety**, I choose the submetric to be **incident hierarchy** for each neighborhood. The dataset I use is https://data.wprdc.org/dataset/police-incident-blotter."
   ]
  },
  {
   "cell_type": "code",
   "execution_count": 2,
   "metadata": {},
   "outputs": [],
   "source": [
    "# import packages\n",
    "import pandas as pd\n",
    "import numpy as np\n",
    "import geopandas\n",
    "%matplotlib inline\n",
    "import matplotlib.pyplot as plt"
   ]
  },
  {
   "cell_type": "code",
   "execution_count": 3,
   "metadata": {},
   "outputs": [],
   "source": [
    "# read in dataset\n",
    "blotter = pd.read_csv(\"police_incident_blotter_data.csv\")"
   ]
  },
  {
   "cell_type": "code",
   "execution_count": 4,
   "metadata": {},
   "outputs": [
    {
     "data": {
      "text/plain": [
       "2936"
      ]
     },
     "execution_count": 4,
     "metadata": {},
     "output_type": "execute_result"
    }
   ],
   "source": [
    "blotter.shape[0]"
   ]
  },
  {
   "cell_type": "code",
   "execution_count": 5,
   "metadata": {},
   "outputs": [
    {
     "data": {
      "text/plain": [
       "15"
      ]
     },
     "execution_count": 5,
     "metadata": {},
     "output_type": "execute_result"
    }
   ],
   "source": [
    "blotter.shape[1]"
   ]
  },
  {
   "cell_type": "code",
   "execution_count": 6,
   "metadata": {},
   "outputs": [
    {
     "data": {
      "text/html": [
       "<div>\n",
       "<style scoped>\n",
       "    .dataframe tbody tr th:only-of-type {\n",
       "        vertical-align: middle;\n",
       "    }\n",
       "\n",
       "    .dataframe tbody tr th {\n",
       "        vertical-align: top;\n",
       "    }\n",
       "\n",
       "    .dataframe thead th {\n",
       "        text-align: right;\n",
       "    }\n",
       "</style>\n",
       "<table border=\"1\" class=\"dataframe\">\n",
       "  <thead>\n",
       "    <tr style=\"text-align: right;\">\n",
       "      <th></th>\n",
       "      <th>PK</th>\n",
       "      <th>CCR</th>\n",
       "      <th>HIERARCHY</th>\n",
       "      <th>INCIDENTTIME</th>\n",
       "      <th>INCIDENTLOCATION</th>\n",
       "      <th>CLEAREDFLAG</th>\n",
       "      <th>INCIDENTNEIGHBORHOOD</th>\n",
       "      <th>INCIDENTZONE</th>\n",
       "      <th>INCIDENTHIERARCHYDESC</th>\n",
       "      <th>OFFENSES</th>\n",
       "      <th>INCIDENTTRACT</th>\n",
       "      <th>COUNCIL_DISTRICT</th>\n",
       "      <th>PUBLIC_WORKS_DIVISION</th>\n",
       "      <th>X</th>\n",
       "      <th>Y</th>\n",
       "    </tr>\n",
       "  </thead>\n",
       "  <tbody>\n",
       "    <tr>\n",
       "      <th>629</th>\n",
       "      <td>308595184</td>\n",
       "      <td>23049908</td>\n",
       "      <td>11</td>\n",
       "      <td>2023-04-05T12:10:00</td>\n",
       "      <td>200 Block Climax St Pittsburgh, PA 15210</td>\n",
       "      <td>N</td>\n",
       "      <td>Beltzhoover</td>\n",
       "      <td>3</td>\n",
       "      <td>IDENTITY THEFT</td>\n",
       "      <td>4120 Identity Theft</td>\n",
       "      <td>1809.0</td>\n",
       "      <td>3.0</td>\n",
       "      <td>5.0</td>\n",
       "      <td>-80.004323</td>\n",
       "      <td>40.419427</td>\n",
       "    </tr>\n",
       "    <tr>\n",
       "      <th>146</th>\n",
       "      <td>306495137</td>\n",
       "      <td>23035600</td>\n",
       "      <td>10</td>\n",
       "      <td>2023-03-09T23:42:00</td>\n",
       "      <td>1000 Block Liberty Ave Pittsburgh, PA 15222</td>\n",
       "      <td>Y</td>\n",
       "      <td>Central Business District</td>\n",
       "      <td>2</td>\n",
       "      <td>SIMPLE ASSAULT</td>\n",
       "      <td>2701 Simple Assault.</td>\n",
       "      <td>201.0</td>\n",
       "      <td>6.0</td>\n",
       "      <td>6.0</td>\n",
       "      <td>-79.994616</td>\n",
       "      <td>40.443419</td>\n",
       "    </tr>\n",
       "    <tr>\n",
       "      <th>30</th>\n",
       "      <td>306351618</td>\n",
       "      <td>23035005</td>\n",
       "      <td>0</td>\n",
       "      <td>2023-03-08T11:00:00</td>\n",
       "      <td>800 Block East Ohio St Pittsburgh, PA 15212</td>\n",
       "      <td>N</td>\n",
       "      <td>East Allegheny</td>\n",
       "      <td>1</td>\n",
       "      <td>99</td>\n",
       "      <td>2709.1 Stalking Conduct or Repeatedly Acts Inc...</td>\n",
       "      <td>2304.0</td>\n",
       "      <td>1.0</td>\n",
       "      <td>1.0</td>\n",
       "      <td>-79.996711</td>\n",
       "      <td>40.454419</td>\n",
       "    </tr>\n",
       "    <tr>\n",
       "      <th>1590</th>\n",
       "      <td>306886228</td>\n",
       "      <td>23037777</td>\n",
       "      <td>0</td>\n",
       "      <td>2023-03-14T12:00:00</td>\n",
       "      <td>100 Block Bausman St Pittsburgh, PA 15210</td>\n",
       "      <td>N</td>\n",
       "      <td>Knoxville</td>\n",
       "      <td>3</td>\n",
       "      <td>99</td>\n",
       "      <td>9999 9999 - (Misc. Incident):</td>\n",
       "      <td>3001.0</td>\n",
       "      <td>NaN</td>\n",
       "      <td>NaN</td>\n",
       "      <td>-79.987984</td>\n",
       "      <td>40.414463</td>\n",
       "    </tr>\n",
       "    <tr>\n",
       "      <th>968</th>\n",
       "      <td>307186513</td>\n",
       "      <td>23039642</td>\n",
       "      <td>10</td>\n",
       "      <td>2023-03-17T20:55:00</td>\n",
       "      <td>600 Block Finland St Pittsburgh, PA 15219</td>\n",
       "      <td>Y</td>\n",
       "      <td>Upper Hill</td>\n",
       "      <td>2</td>\n",
       "      <td>TERRORISTIC THREATS</td>\n",
       "      <td>2701(a)(3) Simple Assault - Attempts by Physic...</td>\n",
       "      <td>506.0</td>\n",
       "      <td>6.0</td>\n",
       "      <td>3.0</td>\n",
       "      <td>-79.959062</td>\n",
       "      <td>40.456272</td>\n",
       "    </tr>\n",
       "    <tr>\n",
       "      <th>2177</th>\n",
       "      <td>-3646203196</td>\n",
       "      <td>23045406</td>\n",
       "      <td>0</td>\n",
       "      <td>2023-03-28T11:30:00</td>\n",
       "      <td>West Liberty Ave &amp; Pauline Ave Pittsburgh, PA ...</td>\n",
       "      <td>N</td>\n",
       "      <td>Brookline</td>\n",
       "      <td>6</td>\n",
       "      <td>99</td>\n",
       "      <td>9999 9999 - (Misc. Incident): A female driver ...</td>\n",
       "      <td>1917.0</td>\n",
       "      <td>4.0</td>\n",
       "      <td>5.0</td>\n",
       "      <td>-80.022174</td>\n",
       "      <td>40.401749</td>\n",
       "    </tr>\n",
       "    <tr>\n",
       "      <th>2441</th>\n",
       "      <td>308312421</td>\n",
       "      <td>23048045</td>\n",
       "      <td>0</td>\n",
       "      <td>2023-04-02T00:30:00</td>\n",
       "      <td>1500 Block 5th Ave Pittsburgh, PA 15219</td>\n",
       "      <td>Y</td>\n",
       "      <td>Bluff</td>\n",
       "      <td>2</td>\n",
       "      <td>99</td>\n",
       "      <td>9999 9999 - (Misc. Incident):</td>\n",
       "      <td>103.0</td>\n",
       "      <td>6.0</td>\n",
       "      <td>3.0</td>\n",
       "      <td>-79.985025</td>\n",
       "      <td>40.438540</td>\n",
       "    </tr>\n",
       "    <tr>\n",
       "      <th>641</th>\n",
       "      <td>307650130</td>\n",
       "      <td>23042693</td>\n",
       "      <td>15</td>\n",
       "      <td>2023-03-23T12:00:00</td>\n",
       "      <td>900 Block Freeport Rd Pittsburgh, PA</td>\n",
       "      <td>N</td>\n",
       "      <td>Lincoln-Lemington-Belmar</td>\n",
       "      <td>5</td>\n",
       "      <td>SALE OR TRANSFER OF FIREARMS</td>\n",
       "      <td>6111 Sale of Firearms.</td>\n",
       "      <td>1201.0</td>\n",
       "      <td>9.0</td>\n",
       "      <td>2.0</td>\n",
       "      <td>-79.892353</td>\n",
       "      <td>40.486119</td>\n",
       "    </tr>\n",
       "    <tr>\n",
       "      <th>2089</th>\n",
       "      <td>306387276</td>\n",
       "      <td>23035224</td>\n",
       "      <td>6</td>\n",
       "      <td>2023-03-08T20:20:00</td>\n",
       "      <td>1100 Block Federal St N Pittsburgh, PA 15212</td>\n",
       "      <td>N</td>\n",
       "      <td>Central North Side</td>\n",
       "      <td>1</td>\n",
       "      <td>THEFT</td>\n",
       "      <td>3921 Theft by Unlawful Taking or Disposition.</td>\n",
       "      <td>2206.0</td>\n",
       "      <td>NaN</td>\n",
       "      <td>NaN</td>\n",
       "      <td>NaN</td>\n",
       "      <td>NaN</td>\n",
       "    </tr>\n",
       "    <tr>\n",
       "      <th>1869</th>\n",
       "      <td>307181550</td>\n",
       "      <td>23039094</td>\n",
       "      <td>14</td>\n",
       "      <td>2023-03-16T22:15:00</td>\n",
       "      <td>600 Block 1st Ave Pittsburgh, PA 15219</td>\n",
       "      <td>Y</td>\n",
       "      <td>Spring Hill-City View</td>\n",
       "      <td>1</td>\n",
       "      <td>CRIM MISCHIEF</td>\n",
       "      <td>3304 Criminal Mischief. / 3928 Unauthorized Us...</td>\n",
       "      <td>2620.0</td>\n",
       "      <td>6.0</td>\n",
       "      <td>6.0</td>\n",
       "      <td>-79.996041</td>\n",
       "      <td>40.435040</td>\n",
       "    </tr>\n",
       "  </tbody>\n",
       "</table>\n",
       "</div>"
      ],
      "text/plain": [
       "              PK       CCR  HIERARCHY         INCIDENTTIME  \\\n",
       "629    308595184  23049908         11  2023-04-05T12:10:00   \n",
       "146    306495137  23035600         10  2023-03-09T23:42:00   \n",
       "30     306351618  23035005          0  2023-03-08T11:00:00   \n",
       "1590   306886228  23037777          0  2023-03-14T12:00:00   \n",
       "968    307186513  23039642         10  2023-03-17T20:55:00   \n",
       "2177 -3646203196  23045406          0  2023-03-28T11:30:00   \n",
       "2441   308312421  23048045          0  2023-04-02T00:30:00   \n",
       "641    307650130  23042693         15  2023-03-23T12:00:00   \n",
       "2089   306387276  23035224          6  2023-03-08T20:20:00   \n",
       "1869   307181550  23039094         14  2023-03-16T22:15:00   \n",
       "\n",
       "                                       INCIDENTLOCATION CLEAREDFLAG  \\\n",
       "629            200 Block Climax St Pittsburgh, PA 15210           N   \n",
       "146         1000 Block Liberty Ave Pittsburgh, PA 15222           Y   \n",
       "30          800 Block East Ohio St Pittsburgh, PA 15212           N   \n",
       "1590          100 Block Bausman St Pittsburgh, PA 15210           N   \n",
       "968           600 Block Finland St Pittsburgh, PA 15219           Y   \n",
       "2177  West Liberty Ave & Pauline Ave Pittsburgh, PA ...           N   \n",
       "2441            1500 Block 5th Ave Pittsburgh, PA 15219           Y   \n",
       "641               900 Block Freeport Rd Pittsburgh, PA            N   \n",
       "2089       1100 Block Federal St N Pittsburgh, PA 15212           N   \n",
       "1869             600 Block 1st Ave Pittsburgh, PA 15219           Y   \n",
       "\n",
       "           INCIDENTNEIGHBORHOOD INCIDENTZONE         INCIDENTHIERARCHYDESC  \\\n",
       "629                 Beltzhoover            3                IDENTITY THEFT   \n",
       "146   Central Business District            2                SIMPLE ASSAULT   \n",
       "30               East Allegheny            1                            99   \n",
       "1590                  Knoxville            3                            99   \n",
       "968                  Upper Hill            2           TERRORISTIC THREATS   \n",
       "2177                  Brookline            6                            99   \n",
       "2441                      Bluff            2                            99   \n",
       "641    Lincoln-Lemington-Belmar            5  SALE OR TRANSFER OF FIREARMS   \n",
       "2089         Central North Side            1                         THEFT   \n",
       "1869      Spring Hill-City View            1                 CRIM MISCHIEF   \n",
       "\n",
       "                                               OFFENSES  INCIDENTTRACT  \\\n",
       "629                                 4120 Identity Theft         1809.0   \n",
       "146                                2701 Simple Assault.          201.0   \n",
       "30    2709.1 Stalking Conduct or Repeatedly Acts Inc...         2304.0   \n",
       "1590                     9999 9999 - (Misc. Incident):          3001.0   \n",
       "968   2701(a)(3) Simple Assault - Attempts by Physic...          506.0   \n",
       "2177  9999 9999 - (Misc. Incident): A female driver ...         1917.0   \n",
       "2441                     9999 9999 - (Misc. Incident):           103.0   \n",
       "641                              6111 Sale of Firearms.         1201.0   \n",
       "2089      3921 Theft by Unlawful Taking or Disposition.         2206.0   \n",
       "1869  3304 Criminal Mischief. / 3928 Unauthorized Us...         2620.0   \n",
       "\n",
       "      COUNCIL_DISTRICT  PUBLIC_WORKS_DIVISION          X          Y  \n",
       "629                3.0                    5.0 -80.004323  40.419427  \n",
       "146                6.0                    6.0 -79.994616  40.443419  \n",
       "30                 1.0                    1.0 -79.996711  40.454419  \n",
       "1590               NaN                    NaN -79.987984  40.414463  \n",
       "968                6.0                    3.0 -79.959062  40.456272  \n",
       "2177               4.0                    5.0 -80.022174  40.401749  \n",
       "2441               6.0                    3.0 -79.985025  40.438540  \n",
       "641                9.0                    2.0 -79.892353  40.486119  \n",
       "2089               NaN                    NaN        NaN        NaN  \n",
       "1869               6.0                    6.0 -79.996041  40.435040  "
      ]
     },
     "execution_count": 6,
     "metadata": {},
     "output_type": "execute_result"
    }
   ],
   "source": [
    "# help me determine which feature to look at\n",
    "blotter.sample(10)"
   ]
  },
  {
   "cell_type": "code",
   "execution_count": 8,
   "metadata": {},
   "outputs": [
    {
     "data": {
      "text/plain": [
       "92"
      ]
     },
     "execution_count": 8,
     "metadata": {},
     "output_type": "execute_result"
    }
   ],
   "source": [
    "# Look at the INCIDENTNEIGHBORHOOD column, how many neighborhoods are included in the dataset?\n",
    "blotter['INCIDENTNEIGHBORHOOD'].nunique()"
   ]
  },
  {
   "cell_type": "code",
   "execution_count": 9,
   "metadata": {},
   "outputs": [
    {
     "data": {
      "text/plain": [
       "7"
      ]
     },
     "execution_count": 9,
     "metadata": {},
     "output_type": "execute_result"
    }
   ],
   "source": [
    "# How many different zones are there?\n",
    "blotter['INCIDENTZONE'].nunique()"
   ]
  },
  {
   "cell_type": "code",
   "execution_count": 19,
   "metadata": {},
   "outputs": [
    {
     "data": {
      "text/html": [
       "<div>\n",
       "<style scoped>\n",
       "    .dataframe tbody tr th:only-of-type {\n",
       "        vertical-align: middle;\n",
       "    }\n",
       "\n",
       "    .dataframe tbody tr th {\n",
       "        vertical-align: top;\n",
       "    }\n",
       "\n",
       "    .dataframe thead th {\n",
       "        text-align: right;\n",
       "    }\n",
       "</style>\n",
       "<table border=\"1\" class=\"dataframe\">\n",
       "  <thead>\n",
       "    <tr style=\"text-align: right;\">\n",
       "      <th></th>\n",
       "      <th>PK</th>\n",
       "      <th>CCR</th>\n",
       "      <th>HIERARCHY</th>\n",
       "      <th>INCIDENTTRACT</th>\n",
       "      <th>COUNCIL_DISTRICT</th>\n",
       "      <th>PUBLIC_WORKS_DIVISION</th>\n",
       "      <th>X</th>\n",
       "      <th>Y</th>\n",
       "    </tr>\n",
       "    <tr>\n",
       "      <th>INCIDENTNEIGHBORHOOD</th>\n",
       "      <th></th>\n",
       "      <th></th>\n",
       "      <th></th>\n",
       "      <th></th>\n",
       "      <th></th>\n",
       "      <th></th>\n",
       "      <th></th>\n",
       "      <th></th>\n",
       "    </tr>\n",
       "  </thead>\n",
       "  <tbody>\n",
       "    <tr>\n",
       "      <th>Allegheny Center</th>\n",
       "      <td>307671649</td>\n",
       "      <td>23042724</td>\n",
       "      <td>3</td>\n",
       "      <td>2204.0</td>\n",
       "      <td>1.0</td>\n",
       "      <td>1.0</td>\n",
       "      <td>-80.001323</td>\n",
       "      <td>40.452157</td>\n",
       "    </tr>\n",
       "    <tr>\n",
       "      <th>Allegheny West</th>\n",
       "      <td>306282794</td>\n",
       "      <td>23034673</td>\n",
       "      <td>27</td>\n",
       "      <td>2201.0</td>\n",
       "      <td>1.0</td>\n",
       "      <td>1.0</td>\n",
       "      <td>-80.014059</td>\n",
       "      <td>40.452415</td>\n",
       "    </tr>\n",
       "    <tr>\n",
       "      <th>Allentown</th>\n",
       "      <td>307558931</td>\n",
       "      <td>23042205</td>\n",
       "      <td>10</td>\n",
       "      <td>1803.0</td>\n",
       "      <td>3.0</td>\n",
       "      <td>5.0</td>\n",
       "      <td>-79.991222</td>\n",
       "      <td>40.420461</td>\n",
       "    </tr>\n",
       "    <tr>\n",
       "      <th>Arlington</th>\n",
       "      <td>308169989</td>\n",
       "      <td>23046606</td>\n",
       "      <td>11</td>\n",
       "      <td>1603.0</td>\n",
       "      <td>3.0</td>\n",
       "      <td>3.0</td>\n",
       "      <td>-79.969268</td>\n",
       "      <td>40.417296</td>\n",
       "    </tr>\n",
       "    <tr>\n",
       "      <th>Arlington Heights</th>\n",
       "      <td>307018045</td>\n",
       "      <td>23038537</td>\n",
       "      <td>18</td>\n",
       "      <td>1604.0</td>\n",
       "      <td>3.0</td>\n",
       "      <td>3.0</td>\n",
       "      <td>-79.963453</td>\n",
       "      <td>40.417717</td>\n",
       "    </tr>\n",
       "    <tr>\n",
       "      <th>...</th>\n",
       "      <td>...</td>\n",
       "      <td>...</td>\n",
       "      <td>...</td>\n",
       "      <td>...</td>\n",
       "      <td>...</td>\n",
       "      <td>...</td>\n",
       "      <td>...</td>\n",
       "      <td>...</td>\n",
       "    </tr>\n",
       "    <tr>\n",
       "      <th>Upper Lawrenceville</th>\n",
       "      <td>307696238</td>\n",
       "      <td>23042810</td>\n",
       "      <td>14</td>\n",
       "      <td>1011.0</td>\n",
       "      <td>7.0</td>\n",
       "      <td>2.0</td>\n",
       "      <td>-79.949119</td>\n",
       "      <td>40.483302</td>\n",
       "    </tr>\n",
       "    <tr>\n",
       "      <th>West End</th>\n",
       "      <td>307218993</td>\n",
       "      <td>23039973</td>\n",
       "      <td>0</td>\n",
       "      <td>2019.0</td>\n",
       "      <td>2.0</td>\n",
       "      <td>5.0</td>\n",
       "      <td>-80.033094</td>\n",
       "      <td>40.441686</td>\n",
       "    </tr>\n",
       "    <tr>\n",
       "      <th>West Oakland</th>\n",
       "      <td>306364460</td>\n",
       "      <td>23035070</td>\n",
       "      <td>21</td>\n",
       "      <td>402.0</td>\n",
       "      <td>6.0</td>\n",
       "      <td>3.0</td>\n",
       "      <td>-79.967714</td>\n",
       "      <td>40.441126</td>\n",
       "    </tr>\n",
       "    <tr>\n",
       "      <th>Westwood</th>\n",
       "      <td>308042942</td>\n",
       "      <td>23045586</td>\n",
       "      <td>99</td>\n",
       "      <td>2811.0</td>\n",
       "      <td>2.0</td>\n",
       "      <td>5.0</td>\n",
       "      <td>-80.055862</td>\n",
       "      <td>40.437774</td>\n",
       "    </tr>\n",
       "    <tr>\n",
       "      <th>Windgap</th>\n",
       "      <td>308121841</td>\n",
       "      <td>23046124</td>\n",
       "      <td>10</td>\n",
       "      <td>2807.0</td>\n",
       "      <td>2.0</td>\n",
       "      <td>5.0</td>\n",
       "      <td>-80.071299</td>\n",
       "      <td>40.451806</td>\n",
       "    </tr>\n",
       "  </tbody>\n",
       "</table>\n",
       "<p>92 rows × 8 columns</p>\n",
       "</div>"
      ],
      "text/plain": [
       "                             PK       CCR  HIERARCHY  INCIDENTTRACT  \\\n",
       "INCIDENTNEIGHBORHOOD                                                  \n",
       "Allegheny Center      307671649  23042724          3         2204.0   \n",
       "Allegheny West        306282794  23034673         27         2201.0   \n",
       "Allentown             307558931  23042205         10         1803.0   \n",
       "Arlington             308169989  23046606         11         1603.0   \n",
       "Arlington Heights     307018045  23038537         18         1604.0   \n",
       "...                         ...       ...        ...            ...   \n",
       "Upper Lawrenceville   307696238  23042810         14         1011.0   \n",
       "West End              307218993  23039973          0         2019.0   \n",
       "West Oakland          306364460  23035070         21          402.0   \n",
       "Westwood              308042942  23045586         99         2811.0   \n",
       "Windgap               308121841  23046124         10         2807.0   \n",
       "\n",
       "                      COUNCIL_DISTRICT  PUBLIC_WORKS_DIVISION          X  \\\n",
       "INCIDENTNEIGHBORHOOD                                                       \n",
       "Allegheny Center                   1.0                    1.0 -80.001323   \n",
       "Allegheny West                     1.0                    1.0 -80.014059   \n",
       "Allentown                          3.0                    5.0 -79.991222   \n",
       "Arlington                          3.0                    3.0 -79.969268   \n",
       "Arlington Heights                  3.0                    3.0 -79.963453   \n",
       "...                                ...                    ...        ...   \n",
       "Upper Lawrenceville                7.0                    2.0 -79.949119   \n",
       "West End                           2.0                    5.0 -80.033094   \n",
       "West Oakland                       6.0                    3.0 -79.967714   \n",
       "Westwood                           2.0                    5.0 -80.055862   \n",
       "Windgap                            2.0                    5.0 -80.071299   \n",
       "\n",
       "                              Y  \n",
       "INCIDENTNEIGHBORHOOD             \n",
       "Allegheny Center      40.452157  \n",
       "Allegheny West        40.452415  \n",
       "Allentown             40.420461  \n",
       "Arlington             40.417296  \n",
       "Arlington Heights     40.417717  \n",
       "...                         ...  \n",
       "Upper Lawrenceville   40.483302  \n",
       "West End              40.441686  \n",
       "West Oakland          40.441126  \n",
       "Westwood              40.437774  \n",
       "Windgap               40.451806  \n",
       "\n",
       "[92 rows x 8 columns]"
      ]
     },
     "execution_count": 19,
     "metadata": {},
     "output_type": "execute_result"
    }
   ],
   "source": [
    "nb = blotter.groupby('INCIDENTNEIGHBORHOOD') \n",
    "nb.first(20)"
   ]
  },
  {
   "cell_type": "code",
   "execution_count": 20,
   "metadata": {},
   "outputs": [
    {
     "data": {
      "text/plain": [
       "568"
      ]
     },
     "execution_count": 20,
     "metadata": {},
     "output_type": "execute_result"
    }
   ],
   "source": [
    "#blotter[blotter['INCIDENTNEIGHBORHOOD'] == 'Allegheny Center']['HIERARCHY'].sum()"
   ]
  },
  {
   "cell_type": "code",
   "execution_count": 21,
   "metadata": {},
   "outputs": [
    {
     "data": {
      "text/plain": [
       "INCIDENTNEIGHBORHOOD\n",
       "Regent Square                   0\n",
       "East Carnegie                   0\n",
       "New Homestead                   0\n",
       "Ridgemont                       6\n",
       "Outside State                  12\n",
       "                             ... \n",
       "Carrick                      2045\n",
       "Brookline                    2076\n",
       "Mount Washington             2316\n",
       "South Side Flats             3165\n",
       "Central Business District    9110\n",
       "Name: HIERARCHY, Length: 92, dtype: int64"
      ]
     },
     "execution_count": 21,
     "metadata": {},
     "output_type": "execute_result"
    }
   ],
   "source": [
    "# sum the hierarchy of all the events for each neighborhood and sort the result\n",
    "rank = nb.sum()['HIERARCHY'].sort_values(ascending=True)\n",
    "rank"
   ]
  },
  {
   "cell_type": "code",
   "execution_count": 22,
   "metadata": {},
   "outputs": [
    {
     "data": {
      "text/plain": [
       "<matplotlib.axes._subplots.AxesSubplot at 0x7f47e54b8f10>"
      ]
     },
     "execution_count": 22,
     "metadata": {},
     "output_type": "execute_result"
    },
    {
     "data": {
      "image/png": "[encoded data removed]",
      "text/plain": [
       "<Figure size 1080x576 with 1 Axes>"
      ]
     },
     "metadata": {
      "needs_background": "light"
     },
     "output_type": "display_data"
    }
   ],
   "source": [
    "# plot the rank data\n",
    "rank = rank.head(20)\n",
    "rank.plot.bar(figsize = (15, 8))"
   ]
  },
  {
   "cell_type": "code",
   "execution_count": 23,
   "metadata": {},
   "outputs": [
    {
     "data": {
      "text/plain": [
       "INCIDENTNEIGHBORHOOD\n",
       "Regent Square          0\n",
       "East Carnegie          0\n",
       "New Homestead          0\n",
       "Ridgemont              6\n",
       "Outside State         12\n",
       "Outside County        13\n",
       "Esplen                13\n",
       "St. Clair             25\n",
       "Summer Hill           30\n",
       "Arlington Heights     34\n",
       "Windgap               64\n",
       "Swisshelm Park        66\n",
       "Friendship            73\n",
       "Lincoln Place         96\n",
       "West End             119\n",
       "Glen Hazel           119\n",
       "Hays                 127\n",
       "Oakwood              153\n",
       "Bon Air              153\n",
       "Fineview             156\n",
       "Name: HIERARCHY, dtype: int64"
      ]
     },
     "execution_count": 23,
     "metadata": {},
     "output_type": "execute_result"
    }
   ],
   "source": [
    "# The top 20 safest neighborhoods\n",
    "rank"
   ]
  },
  {
   "cell_type": "markdown",
   "metadata": {},
   "source": [
    "## Conclusion"
   ]
  },
  {
   "cell_type": "markdown",
   "metadata": {},
   "source": [
    "The data driven determination of “best neighborhood” is different from my personal favorite neighborhoods. I honestly haven not been to any of the places listed above or have been to but didn't recognize some of them. As I spend most of my time on campus and the in neighborhood I live in, I would say central oakland is safe for me, as a place with a high flow of people everyday. I believe Squirrel Hill is also relatively safe. On the other hand, the safe neighborhoods listed above are safe could be because the population there is relatively small."
   ]
  },
  {
   "cell_type": "code",
   "execution_count": null,
   "metadata": {},
   "outputs": [],
   "source": []
  }
 ],
 "metadata": {
  "kernelspec": {
   "display_name": "Python 3",
   "language": "python",
   "name": "python3"
  },
  "language_info": {
   "codemirror_mode": {
    "name": "ipython",
    "version": 3
   },
   "file_extension": ".py",
   "mimetype": "text/x-python",
   "name": "python",
   "nbconvert_exporter": "python",
   "pygments_lexer": "ipython3",
   "version": "3.8.3"
  }
 },
 "nbformat": 4,
 "nbformat_minor": 4
}
